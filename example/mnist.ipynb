{
 "cells": [
  {
   "cell_type": "markdown",
   "id": "f013bb54",
   "metadata": {},
   "source": [
    "## Parameters"
   ]
  },
  {
   "cell_type": "code",
   "execution_count": 1,
   "id": "dc71b6eb",
   "metadata": {},
   "outputs": [],
   "source": [
    "xgb_params = {\n",
    "    'objective': 'multi:softmax', \n",
    "    'num_class': 10, \n",
    "    'n_estimators': 30, \n",
    "    'max_depth': 5, \n",
    "    'eta': 0.8\n",
    "}\n",
    "\n",
    "treelut_params = {\n",
    "    'w_feature': 4, \n",
    "    'w_tree': 3, \n",
    "    'pipeline': [0, 1, 1], \n",
    "    'dir_path': './OutputFiles/MNIST/'}"
   ]
  },
  {
   "cell_type": "markdown",
   "id": "d1a3055e",
   "metadata": {},
   "source": [
    "## MNIST Data Loading"
   ]
  },
  {
   "cell_type": "code",
   "execution_count": 2,
   "id": "b0adb925",
   "metadata": {},
   "outputs": [],
   "source": [
    "import numpy as np\n",
    "from torchvision import datasets\n",
    "\n",
    "data_train = datasets.MNIST(root=\"./Data\", train=True, download=True)\n",
    "data_test = datasets.MNIST(root=\"./Data\", train=False, download=True)\n",
    "\n",
    "X_train = np.array(data_train.data.numpy()).reshape(data_train.data.shape[0], -1)\n",
    "y_train = np.array(data_train.targets.numpy())\n",
    "\n",
    "X_test = np.array(data_test.data.numpy()).reshape(data_test.data.shape[0], -1)\n",
    "y_test = np.array(data_test.targets.numpy())"
   ]
  },
  {
   "cell_type": "markdown",
   "id": "9e321b18",
   "metadata": {},
   "source": [
    "## Data Quantization"
   ]
  },
  {
   "cell_type": "code",
   "execution_count": 3,
   "id": "606e60d9",
   "metadata": {},
   "outputs": [],
   "source": [
    "from sklearn.preprocessing import MinMaxScaler\n",
    "\n",
    "scaler = MinMaxScaler()\n",
    "w_feature = treelut_params['w_feature']\n",
    "X_train_quantized = np.round(scaler.fit_transform(X_train)*(2**w_feature-1))\n",
    "X_test_quantized = np.clip(np.round(scaler.transform(X_test)*(2**w_feature-1)), 0, 2**w_feature-1)"
   ]
  },
  {
   "cell_type": "markdown",
   "id": "61aff3d2",
   "metadata": {},
   "source": [
    "## XGBoost Model Training"
   ]
  },
  {
   "cell_type": "code",
   "execution_count": 4,
   "id": "7bd97ed2",
   "metadata": {},
   "outputs": [
    {
     "name": "stdout",
     "output_type": "stream",
     "text": [
      "XGB Model Accuracy: 0.971\n"
     ]
    }
   ],
   "source": [
    "from xgboost import XGBClassifier\n",
    "from sklearn.metrics import accuracy_score\n",
    "\n",
    "xgb_clf = XGBClassifier(**xgb_params)\n",
    "xgb_clf.fit(X_train_quantized, y_train)\n",
    "y_pred_xgb = xgb_clf.predict(X_test_quantized)\n",
    "print(f\"XGB Model Accuracy: {accuracy_score(y_pred_xgb, y_test):.3f}\")"
   ]
  },
  {
   "cell_type": "markdown",
   "id": "40386844",
   "metadata": {},
   "source": [
    "## TreeLUT Model Generation"
   ]
  },
  {
   "cell_type": "code",
   "execution_count": 5,
   "id": "ed3a074d",
   "metadata": {},
   "outputs": [
    {
     "name": "stdout",
     "output_type": "stream",
     "text": [
      "TreeLUT Model Accuracy: 0.966\n"
     ]
    }
   ],
   "source": [
    "from treelut import TreeLUTClassifier\n",
    "\n",
    "treelut_clf = TreeLUTClassifier(xgb_model=xgb_clf, **treelut_params)\n",
    "treelut_clf.convert()\n",
    "y_pred_treelut = treelut_clf.predict(X_test_quantized)\n",
    "print(f\"TreeLUT Model Accuracy: {accuracy_score(y_pred_treelut, y_test):.3f}\")\n",
    "\n",
    "treelut_clf.verilog()\n",
    "treelut_clf.testbench(X_test_quantized, y_test)"
   ]
  }
 ],
 "metadata": {
  "kernelspec": {
   "display_name": "Python 3 (ipykernel)",
   "language": "python",
   "name": "python3"
  },
  "language_info": {
   "codemirror_mode": {
    "name": "ipython",
    "version": 3
   },
   "file_extension": ".py",
   "mimetype": "text/x-python",
   "name": "python",
   "nbconvert_exporter": "python",
   "pygments_lexer": "ipython3",
   "version": "3.10.9"
  }
 },
 "nbformat": 4,
 "nbformat_minor": 5
}
